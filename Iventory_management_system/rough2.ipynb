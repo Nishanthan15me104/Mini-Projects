{
 "cells": [
  {
   "cell_type": "code",
   "execution_count": null,
   "metadata": {},
   "outputs": [],
   "source": [
    "def find_product(df):\n",
    "\n",
    "    Product = input('Enter product')\n",
    "    \n",
    "    if Product not in df['product'].values:\n",
    "         print('No product found')\n",
    "    else:\n",
    "        display_product = df[df['product'] == Product]\n",
    "        print(display_product)\n",
    "\n",
    "\n",
    "def find_product(df):\n",
    "\n",
    "    Product = input('Enter product')\n",
    "    display_product = df[df['product'] == Product]\n",
    "    if display_product.empty:\n",
    "         print('No product found')\n",
    "    else:\n",
    "        print(display_product)\n",
    "\n",
    "\n",
    "        "
   ]
  }
 ],
 "metadata": {
  "language_info": {
   "name": "python"
  }
 },
 "nbformat": 4,
 "nbformat_minor": 2
}
